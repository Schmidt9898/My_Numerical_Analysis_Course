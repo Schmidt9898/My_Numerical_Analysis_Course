{
 "cells": [
  {
   "cell_type": "code",
   "execution_count": 10,
   "metadata": {},
   "outputs": [],
   "source": [
    "import numpy as np\n",
    "import math\n",
    "\n",
    "import matplotlib.pyplot as plt\n"
   ]
  },
  {
   "cell_type": "code",
   "execution_count": 11,
   "metadata": {},
   "outputs": [
    {
     "data": {
      "text/plain": [
       "1.0"
      ]
     },
     "execution_count": 11,
     "metadata": {},
     "output_type": "execute_result"
    }
   ],
   "source": [
    "def Comp_midpoint(f,a,b,N=100):\n",
    "\tx_vec = np.linspace(a, b, num=N, endpoint=True, retstep=False, dtype=None, axis=0)\n",
    "\t#print(x_vec)\n",
    "\t#arr = [d/n*i for i in range(n+1)]\n",
    "\t#arr = [f(x) for x in arr]\n",
    "\n",
    "\ts = 0\n",
    "\t#print(d)\n",
    "\tfor i in range(len(x_vec)-1):\n",
    "\t\ta = x_vec[i]\n",
    "\t\tb = x_vec[i+1]\n",
    "\t\twi = (b-a) # this can be optimized, but this reflects more the equation\n",
    "\t\tx = (a+b)/2\n",
    "\t\ts += f(x)*wi\n",
    "\t\t#print(s,x,a,b,wi)\n",
    "\treturn s\n",
    "\n",
    "\n",
    "f = lambda x : 1\n",
    "a,b = 0,1\n",
    "\n",
    "Comp_midpoint(f,a,b,3)"
   ]
  },
  {
   "cell_type": "code",
   "execution_count": 12,
   "metadata": {},
   "outputs": [
    {
     "data": {
      "text/plain": [
       "1.0"
      ]
     },
     "execution_count": 12,
     "metadata": {},
     "output_type": "execute_result"
    }
   ],
   "source": [
    "def Comp_trapazoid(f,a,b,N=100):\n",
    "\tx_vec = np.linspace(a, b, num=N, endpoint=True, retstep=False, dtype=None, axis=0)\n",
    "\t#print(x_vec)\n",
    "\t#arr = [d/n*i for i in range(n+1)]\n",
    "\t#arr = [f(x) for x in arr]\n",
    "\n",
    "\ts = 0\n",
    "\t#print(d)\n",
    "\tfor i in range(len(x_vec)-1):\n",
    "\t\ta = x_vec[i]\n",
    "\t\tb = x_vec[i+1]\n",
    "\t\twi = (b-a)/2 # this can be optimized, but this reflects more the equation\n",
    "\t\ts += (f(a)+f(b))*wi\n",
    "\t\t#print(s,a,b,wi)\n",
    "\treturn s\n",
    "\n",
    "\n",
    "f = lambda x : 1\n",
    "a,b = 0,1\n",
    "\n",
    "Comp_trapazoid(f,a,b,5)"
   ]
  },
  {
   "cell_type": "code",
   "execution_count": 13,
   "metadata": {},
   "outputs": [
    {
     "data": {
      "text/plain": [
       "0.4"
      ]
     },
     "execution_count": 13,
     "metadata": {},
     "output_type": "execute_result"
    }
   ],
   "source": [
    "def Mistake_trapazoid(f,a,b,N=100):\n",
    "\tx_vec = np.linspace(a, b, num=N, endpoint=True, retstep=False, dtype=None, axis=0)\n",
    "\n",
    "\ts = 0\n",
    "\tfor i in range(len(x_vec)-1):\n",
    "\t\ta = x_vec[i]\n",
    "\t\tb = x_vec[i+1]\n",
    "\t\twi = (b - a)/N # this is the introduced mistake\n",
    "\t\ts += (f(a)+f(b))*wi\n",
    "\treturn s\n",
    "\n",
    "\n",
    "f = lambda x : 1\n",
    "a,b = 0,1\n",
    "\n",
    "Mistake_trapazoid(f,a,b,5)"
   ]
  },
  {
   "cell_type": "code",
   "execution_count": 14,
   "metadata": {},
   "outputs": [
    {
     "data": {
      "text/plain": [
       "1.0"
      ]
     },
     "execution_count": 14,
     "metadata": {},
     "output_type": "execute_result"
    }
   ],
   "source": [
    "def Comp_simpsons(f,a,b,N=100):\n",
    "\tx_vec = np.linspace(a, b, num=N, endpoint=True, retstep=False, dtype=None, axis=0)\n",
    "\t#print(x_vec)\n",
    "\t#arr = [d/n*i for i in range(n+1)]\n",
    "\t#arr = [f(x) for x in arr]\n",
    "\n",
    "\ts = 0\n",
    "\t#print(d)\n",
    "\tfor i in range(len(x_vec)-1):\n",
    "\t\ta = x_vec[i]\n",
    "\t\tb = x_vec[i+1]\n",
    "\t\twi = (b-a)/6 # this can be optimized, but this reflects more the equation\n",
    "\t\ts += wi* ( f(a) + 4*f( (a+b)/2 )  + f(b) )\n",
    "\t\t#print(s,a,b,wi)\n",
    "\treturn s\n",
    "\n",
    "\n",
    "f = lambda x : 1\n",
    "a,b = 0,1\n",
    "\n",
    "Comp_simpsons(f,a,b,5)"
   ]
  },
  {
   "cell_type": "code",
   "execution_count": 15,
   "metadata": {},
   "outputs": [],
   "source": [
    "from math import log2\n",
    "\n",
    "\n",
    "def convergence_rate(rule,f,a,b,true_value,N=16):\n",
    "\n",
    "\terror_N = abs(true_value - rule(f,a,b,N))\n",
    "\terror_2N= abs(true_value - rule(f,a,b,2*N))\n",
    "\t#print(error_N,\"\t\t\",error_2N)\n",
    "\n",
    "\t_2r = error_N/error_2N\n",
    "\tr = log2(_2r)\n",
    "\tprint(r)\n",
    "\treturn error_N,r"
   ]
  },
  {
   "cell_type": "code",
   "execution_count": 16,
   "metadata": {},
   "outputs": [
    {
     "name": "stdout",
     "output_type": "stream",
     "text": [
      "2.2202656718867986\n",
      "3.2250094064208703\n",
      "2.4501932783119105\n",
      "2.200019349589204\n",
      "2.094813417721294\n",
      "2.0462140167453247\n",
      "2.022820796291353\n",
      "2.0113402659811137\n",
      "2.0056527719107278\n",
      "2.002822067623306\n"
     ]
    },
    {
     "data": {
      "text/plain": [
       "[<matplotlib.lines.Line2D at 0x1828e59d570>]"
      ]
     },
     "execution_count": 16,
     "metadata": {},
     "output_type": "execute_result"
    },
    {
     "data": {
      "image/png": "[encoded data removed]",
      "text/plain": [
       "<Figure size 640x480 with 1 Axes>"
      ]
     },
     "metadata": {},
     "output_type": "display_data"
    }
   ],
   "source": [
    "f = lambda x : math.sin(x)\n",
    "#f = lambda x : x*x\n",
    "a,b = 0,math.pi/2\n",
    "#a,b = 0,1\n",
    "true_value = 1\n",
    "N=10\n",
    "\n",
    "#mid_val = Comp_midpoint(f,a,b,N)\n",
    "#trap_val = Comp_trapazoid(f,a,b,N)\n",
    "#simp_val = Comp_simpsons(f,a,b,N)\n",
    "\n",
    "\n",
    "#print(mid_val,true_value-mid_val)\n",
    "#print(trap_val,true_value-trap_val)\n",
    "#print(simp_val,true_value-simp_val)\n",
    "\n",
    "\n",
    "#convergence_rate(Comp_midpoint,f,a,b,true_value)\n",
    "#convergence_rate(Comp_trapazoid,f,a,b,true_value)\n",
    "#convergence_rate(Comp_simpsons,f,a,b,true_value)\n",
    "\n",
    "x_plot = []\n",
    "y_plot = []\n",
    "for i in range(10):\n",
    "\tn = pow(2,i)\n",
    "\n",
    "\terror,r = convergence_rate(Comp_trapazoid,f,a,b,true_value,n)\n",
    "\ty_plot.append(r)\n",
    "\th = (b - a)/n\n",
    "\t#print(\"h\",h,\"n\",n,\"r\",r)\n",
    "\tx_plot.append(n)\n",
    "\t#print(n,convergence_rate(Comp_midpoint,f,a,b,true_value,n))\n",
    "\tpass\n",
    "\n",
    "plt.loglog(x_plot,y_plot)\n",
    "\n",
    "#print(Comp_trapazoid(f,a,b,N))\n"
   ]
  },
  {
   "cell_type": "code",
   "execution_count": 17,
   "metadata": {},
   "outputs": [
    {
     "name": "stdout",
     "output_type": "stream",
     "text": [
      "2.2202656718867986\n",
      "-1.2530032532589657\n",
      "-0.5542431772697756\n",
      "-0.22056252985403615\n",
      "-0.09936788656842212\n",
      "-0.04728754630682348\n",
      "-0.02308149406366073\n",
      "-0.011404507258348337\n",
      "-0.005668718620659754\n",
      "-0.0028260401784316064\n"
     ]
    },
    {
     "data": {
      "text/plain": [
       "[<matplotlib.lines.Line2D at 0x1828e87ae00>]"
      ]
     },
     "execution_count": 17,
     "metadata": {},
     "output_type": "execute_result"
    },
    {
     "data": {
      "image/png": "[encoded data removed]",
      "text/plain": [
       "<Figure size 640x480 with 1 Axes>"
      ]
     },
     "metadata": {},
     "output_type": "display_data"
    }
   ],
   "source": [
    "f = lambda x : math.sin(x)\n",
    "#f = lambda x : x*x\n",
    "a,b = 0,math.pi/2\n",
    "#a,b = 0,1\n",
    "true_value = 1\n",
    "\n",
    "x_plot = []\n",
    "y_plot = []\n",
    "for i in range(10):\n",
    "\tn = pow(2,i)\n",
    "\n",
    "\terror,r = convergence_rate(Mistake_trapazoid,f,a,b,true_value,n)\n",
    "\ty_plot.append(r)\n",
    "\th = (b - a)/n\n",
    "\t#print(\"h\",h,\"n\",n,\"r\",r)\n",
    "\tx_plot.append(n)\n",
    "\tpass\n",
    "\n",
    "plt.loglog(x_plot,y_plot)"
   ]
  },
  {
   "cell_type": "code",
   "execution_count": 60,
   "metadata": {},
   "outputs": [
    {
     "name": "stdout",
     "output_type": "stream",
     "text": [
      "true_value 0.2635396737805913\n",
      "Errors with N = 10\n",
      "{'Euler': 0.010394639586606469, 'BackEuler': 0.011905586719526517, 'Crank': 0.00011065469347504298}\n"
     ]
    },
    {
     "data": {
      "image/png": "[encoded data removed]",
      "text/plain": [
       "<Figure size 640x480 with 1 Axes>"
      ]
     },
     "metadata": {},
     "output_type": "display_data"
    }
   ],
   "source": [
    "\n",
    "def simple_iteration(g,x0,err=4,MAX_ITER=1000):\n",
    "\tif err > 1:\n",
    "\t\terr = pow(10,-err)\n",
    "\tx_last = x0\n",
    "\tx=x0\n",
    "\t#max_iter_is_reached = True\n",
    "\tfor i in range(1,MAX_ITER):\n",
    "\t\tx = g(x)\n",
    "\n",
    "\t\tif abs(x - x_last) < err:\n",
    "\t\t\t#print(\"iteration =\",i, \"x =\",x)\n",
    "\t\t\treturn x,i\n",
    "\t\t\tbreak\n",
    "\t\tx_last = x\n",
    "\t\t#print(x)\n",
    "\traise(Exception(\"Out of iteration!\"))\n",
    "\n",
    "\n",
    "def Euler(yt,y0,T,N):\n",
    "\th = T/N\n",
    "\tfunc = [y0]\n",
    "\tx_axis = [0]\n",
    "\th_pos = 0\n",
    "\ty = y0\n",
    "\tylast = y0\n",
    "\tfor i in range(N):\n",
    "\t\ty = ylast + h*yt(ylast)\n",
    "\t\tylast = y\n",
    "\t\tfunc.append(y)\n",
    "\t\th_pos+=h\n",
    "\t\tx_axis.append(h_pos)\n",
    "\treturn func,x_axis\n",
    "\n",
    "def Euler_backward(yt,y0,T,N):\n",
    "\th = T/N\n",
    "\tfunc = [y0]\n",
    "\tx_axis = [0]\n",
    "\th_pos = 0\n",
    "\t#print(y0)\n",
    "\ty = y0\n",
    "\tylast = y0\n",
    "\tfor i in range(N):\n",
    "\t\tg = lambda x : ylast + h*yt(x)\n",
    "\t\t#do it, nested iteration\n",
    "\t\tback_e,_ = simple_iteration(g,ylast)\n",
    "\t\ty = back_e\n",
    "\t\tylast = y\n",
    "\t\tfunc.append(y)\n",
    "\t\th_pos+=h\n",
    "\t\tx_axis.append(h_pos)\n",
    "\treturn func,x_axis\n",
    "\n",
    "def Cranky_Nicolson(yt,y0,T,N):\n",
    "\th = T/N\n",
    "\tfunc = [y0]\n",
    "\tx_axis = [0]\n",
    "\th_pos = 0\n",
    "\t#print(y0)\n",
    "\ty = y0\n",
    "\tylast = y0\n",
    "\tfor i in range(N):\n",
    "\t\thf = 0.5*h*yt(ylast)\n",
    "\t\tg = lambda x : ylast + hf + 0.5*h*yt(x)\n",
    "\t\t#do it, nested iteration\n",
    "\t\ty,_ = simple_iteration(g,ylast)\n",
    "\t\tylast = y\n",
    "\t\tfunc.append(y)\n",
    "\t\th_pos+=h\n",
    "\t\tx_axis.append(h_pos)\n",
    "\treturn func,x_axis\n",
    "\n",
    "\n",
    "errors = {}\n",
    "\n",
    "yt = lambda t : t - pow(t,3)\n",
    "y0 = 0.1\n",
    "T = 1\n",
    "N = 10\n",
    "plot_y,plot_x = Euler(yt,y0,T,N)\n",
    "errors[\"Euler\"] = (plot_y[-1]) # save last element\n",
    "plt.plot(plot_x,plot_y,label='Euler')\n",
    "\n",
    "plot_y,plot_x = Euler_backward(yt,y0,T,N)\n",
    "errors[\"BackEuler\"] = (plot_y[-1]) # save last element\n",
    "plt.plot(plot_x,plot_y,label='Backward Euler') \n",
    "\n",
    "plot_y,plot_x = Cranky_Nicolson(yt,y0,T,N)\n",
    "errors[\"Crank\"] = (plot_y[-1]) # save last element\n",
    "plt.plot(plot_x,plot_y,label='Crank-Nicolson')\n",
    "plt.title(\"Theta methods\")\n",
    "plt.ylabel(\"y\")\n",
    "plt.xlabel(\"t\")\n",
    "plt.legend()\n",
    "\n",
    "#The \"true\"  value in last pos\n",
    "yt = lambda t : y0/math.sqrt( y0*y0 - (y0*y0-1) * math.exp(-2*t) )\n",
    "true_value = yt(plot_x[-1])\n",
    "print(\"true_value\",true_value)\n",
    "\n",
    "errors[\"Euler\"]\t\t= abs(true_value-errors[\"Euler\"]\t)\n",
    "errors[\"BackEuler\"]\t= abs(true_value-errors[\"BackEuler\"])\n",
    "errors[\"Crank\"]\t\t= abs(true_value-errors[\"Crank\"]\t)\n",
    "\n",
    "print(\"Errors with N =\",N)\n",
    "print(errors)\n",
    "\n"
   ]
  },
  {
   "cell_type": "code",
   "execution_count": null,
   "metadata": {},
   "outputs": [],
   "source": [
    "def plot_convergence_for_theta_methods(name,method,yt,y0,T):\n",
    "\tN = 10\n",
    "\n",
    "\t\n",
    "\tplot_y,plot_x = method(yt,y0,T,N)\n",
    "\n",
    "\n",
    "\n",
    "\tplt.subplots()\n",
    "\tplt.title(name)\n",
    "\n",
    "\tx_plot = []\n",
    "\ty_plot = []\n",
    "\tfor i in range(10):\n",
    "\t\tn = pow(2,i)\n",
    "\n",
    "\t\terror,r = convergence_rate(Mistake_trapazoid,f,a,b,true_value,n)\n",
    "\t\ty_plot.append(r)\n",
    "\t\th = (b - a)/n\n",
    "\t\t#print(\"h\",h,\"n\",n,\"r\",r)\n",
    "\t\tx_plot.append(n)\n",
    "\t\tpass\n",
    "\n",
    "\tplt.loglog(x_plot,y_plot)\n",
    "\t\n",
    "yt = lambda t : t - pow(t,3)\n",
    "y0 = 0.1\n",
    "T = 1\n",
    "\n",
    "plot_convergence_for_theta_methods(\"Euler\",Euler,yt,y0,T)\n",
    "plot_convergence_for_theta_methods(\"Euler backward\",Euler_backward,yt,y0,T,)\n",
    "plot_convergence_for_theta_methods(\"Crank Nicolson\",Cranky_Nicolson,yt,y0,T)"
   ]
  }
 ],
 "metadata": {
  "kernelspec": {
   "display_name": "Python 3.10.6 64-bit",
   "language": "python",
   "name": "python3"
  },
  "language_info": {
   "codemirror_mode": {
    "name": "ipython",
    "version": 3
   },
   "file_extension": ".py",
   "mimetype": "text/x-python",
   "name": "python",
   "nbconvert_exporter": "python",
   "pygments_lexer": "ipython3",
   "version": "3.10.6"
  },
  "orig_nbformat": 4,
  "vscode": {
   "interpreter": {
    "hash": "e6b503bf4887aba3aa0e64e3afc198311b49c2e1933252cd86ee3301bfbc31e4"
   }
  }
 },
 "nbformat": 4,
 "nbformat_minor": 2
}
