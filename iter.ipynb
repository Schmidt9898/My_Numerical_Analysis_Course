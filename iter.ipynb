{
 "cells": [
  {
   "cell_type": "code",
   "execution_count": 42,
   "metadata": {},
   "outputs": [
    {
     "name": "stdout",
     "output_type": "stream",
     "text": [
      "Iteration...\n"
     ]
    }
   ],
   "source": [
    "import numpy as np\n",
    "\n",
    "print(\"Iteration...\")"
   ]
  },
  {
   "cell_type": "code",
   "execution_count": 43,
   "metadata": {},
   "outputs": [],
   "source": [
    "\n",
    "# return a tuple with (root,iteration count)\n",
    "def Newton(x0,f,fder,precision = 4,max_iter = 1000):\n",
    "\tprecision = pow(10,-precision)\n",
    "\tx = x0\n",
    "\n",
    "\tfor i in range(max_iter):\n",
    "\t\tx = x - f(x)/fder(x)\n",
    "\t\t#print(x)\n",
    "\t\tif(abs(f(x))<precision):\n",
    "\t\t\treturn (x,i)\n",
    "\treturn (x,max_iter)"
   ]
  },
  {
   "cell_type": "code",
   "execution_count": 44,
   "metadata": {},
   "outputs": [],
   "source": [
    "def Secant(x0,x1,f,precision = 4,max_iter = 1000):\n",
    "\tprecision = pow(10,-precision)\n",
    "\tx = x1\n",
    "\txmin1 = x0\n",
    "\tfor i in range(max_iter):\n",
    "\t\tx = x - f(x)*((x-xmin1)/(f(x)-f(xmin1)))\n",
    "\t\tif(abs(f(x))<precision):\n",
    "\t\t\treturn (x,i)\n",
    "\treturn (x,max_iter)\t"
   ]
  },
  {
   "cell_type": "code",
   "execution_count": 45,
   "metadata": {},
   "outputs": [
    {
     "name": "stdout",
     "output_type": "stream",
     "text": [
      "1.3688102226338952 4.4614406963461306e-05 2\n"
     ]
    }
   ],
   "source": [
    "f = lambda x : pow(x,3)+2*pow(x,2)+10*x-20\n",
    "fder = lambda x : 3*pow(x,2)+4*x+10   \n",
    "\n",
    "x , iteration = Newton(2,f,fder,4)\n",
    "\n",
    "print(x,f(x),iteration)"
   ]
  },
  {
   "cell_type": "code",
   "execution_count": 46,
   "metadata": {},
   "outputs": [
    {
     "name": "stdout",
     "output_type": "stream",
     "text": [
      "1.3688127039063198 9.695977745494133e-05 17\n"
     ]
    }
   ],
   "source": [
    "x , iteration = Secant(4,2,f)\n",
    "print(x,f(x),iteration)"
   ]
  }
 ],
 "metadata": {
  "kernelspec": {
   "display_name": "Python 3.10.6 64-bit",
   "language": "python",
   "name": "python3"
  },
  "language_info": {
   "codemirror_mode": {
    "name": "ipython",
    "version": 3
   },
   "file_extension": ".py",
   "mimetype": "text/x-python",
   "name": "python",
   "nbconvert_exporter": "python",
   "pygments_lexer": "ipython3",
   "version": "3.10.6"
  },
  "orig_nbformat": 4,
  "vscode": {
   "interpreter": {
    "hash": "e6b503bf4887aba3aa0e64e3afc198311b49c2e1933252cd86ee3301bfbc31e4"
   }
  }
 },
 "nbformat": 4,
 "nbformat_minor": 2
}
