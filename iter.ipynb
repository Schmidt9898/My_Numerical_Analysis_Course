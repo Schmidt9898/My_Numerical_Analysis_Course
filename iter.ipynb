{
 "cells": [
  {
   "cell_type": "code",
   "execution_count": 26,
   "metadata": {},
   "outputs": [
    {
     "name": "stdout",
     "output_type": "stream",
     "text": [
      "Iteration...\n"
     ]
    }
   ],
   "source": [
    "import numpy as np\n",
    "import math\n",
    "\n",
    "print(\"Iteration...\")"
   ]
  },
  {
   "cell_type": "code",
   "execution_count": 27,
   "metadata": {},
   "outputs": [],
   "source": [
    "\n",
    "# return a tuple with (root,iteration count)\n",
    "def Newton(x0,f,fder,precision = 4,max_iter = 1000):\n",
    "\tprecision = pow(10,-precision)\n",
    "\tx = x0\n",
    "\n",
    "\tfor i in range(max_iter):\n",
    "\t\tx = x - f(x)/fder(x)\n",
    "\t\t#print(x)\n",
    "\t\tif(abs(f(x))<precision):\n",
    "\t\t\treturn (x,i)\n",
    "\treturn (x,max_iter)"
   ]
  },
  {
   "cell_type": "code",
   "execution_count": 28,
   "metadata": {},
   "outputs": [],
   "source": [
    "def Secant(x0,x1,f,precision = 4,max_iter = 1000):\n",
    "\tprecision = pow(10,-precision)\n",
    "\tx = x1\n",
    "\txmin1 = x0\n",
    "\tfor i in range(max_iter):\n",
    "\t\tx = x - f(x)*((x-xmin1)/(f(x)-f(xmin1)))\n",
    "\t\tif(abs(f(x))<precision):\n",
    "\t\t\treturn (x,i)\n",
    "\treturn (x,max_iter)\t"
   ]
  },
  {
   "cell_type": "code",
   "execution_count": 29,
   "metadata": {},
   "outputs": [],
   "source": [
    "def Bisec(a,b,f,precision = 4,max_iter = 1000):\n",
    "\tprecision = pow(10,-precision)\n",
    "\tif b-a < 0:\n",
    "\t\traise Exception(\" error: a > b \",a,b)\n",
    "\n",
    "\n",
    "\tfor i in range(max_iter):\n",
    "\t\tx = a + (b-a)/2\n",
    "\n",
    "\t\tif(abs(f(x))<precision):\n",
    "\t\t\treturn (x,i)\n",
    "\n",
    "\t\tif f(a) * f(x) < 0:\n",
    "\t\t\t#left part go\n",
    "\t\t\tb = x\n",
    "\t\t\tpass\n",
    "\t\telif f(x)*f(b) < 0:\n",
    "\t\t\t#right part go\n",
    "\t\t\ta = x\n",
    "\t\t\tpass\n",
    "\t\telse:\n",
    "\t\t\traise Exception(\"what\")\n",
    "\t\n",
    "\treturn (x,max_iter)\t"
   ]
  },
  {
   "cell_type": "code",
   "execution_count": 30,
   "metadata": {},
   "outputs": [],
   "source": [
    "f = lambda x : x+1\n",
    "fder = lambda x : 1  "
   ]
  },
  {
   "cell_type": "code",
   "execution_count": 31,
   "metadata": {},
   "outputs": [],
   "source": [
    "f = lambda x : pow(x,3)+2*pow(x,2)+10*x-20\n",
    "fder = lambda x : 3*pow(x,2)+4*x+10"
   ]
  },
  {
   "cell_type": "code",
   "execution_count": 35,
   "metadata": {},
   "outputs": [],
   "source": [
    "f = lambda x : math.tanh(x)\n",
    "fder = lambda x : 1/( math.pow(math.cosh(x),2)) \n"
   ]
  },
  {
   "cell_type": "code",
   "execution_count": 36,
   "metadata": {},
   "outputs": [
    {
     "ename": "OverflowError",
     "evalue": "math range error",
     "output_type": "error",
     "traceback": [
      "\u001b[1;31m---------------------------------------------------------------------------\u001b[0m",
      "\u001b[1;31mOverflowError\u001b[0m                             Traceback (most recent call last)",
      "Cell \u001b[1;32mIn [36], line 1\u001b[0m\n\u001b[1;32m----> 1\u001b[0m x , iteration \u001b[38;5;241m=\u001b[39m \u001b[43mNewton\u001b[49m\u001b[43m(\u001b[49m\u001b[38;5;241;43m2\u001b[39;49m\u001b[43m,\u001b[49m\u001b[43mf\u001b[49m\u001b[43m,\u001b[49m\u001b[43mfder\u001b[49m\u001b[43m,\u001b[49m\u001b[38;5;241;43m4\u001b[39;49m\u001b[43m)\u001b[49m\n\u001b[0;32m      3\u001b[0m \u001b[38;5;28mprint\u001b[39m(x,f(x),iteration)\n",
      "Cell \u001b[1;32mIn [27], line 7\u001b[0m, in \u001b[0;36mNewton\u001b[1;34m(x0, f, fder, precision, max_iter)\u001b[0m\n\u001b[0;32m      4\u001b[0m x \u001b[38;5;241m=\u001b[39m x0\n\u001b[0;32m      6\u001b[0m \u001b[38;5;28;01mfor\u001b[39;00m i \u001b[38;5;129;01min\u001b[39;00m \u001b[38;5;28mrange\u001b[39m(max_iter):\n\u001b[1;32m----> 7\u001b[0m \tx \u001b[38;5;241m=\u001b[39m x \u001b[38;5;241m-\u001b[39m f(x)\u001b[38;5;241m/\u001b[39m\u001b[43mfder\u001b[49m\u001b[43m(\u001b[49m\u001b[43mx\u001b[49m\u001b[43m)\u001b[49m\n\u001b[0;32m      8\u001b[0m \t\u001b[38;5;66;03m#print(x)\u001b[39;00m\n\u001b[0;32m      9\u001b[0m \t\u001b[38;5;28;01mif\u001b[39;00m(\u001b[38;5;28mabs\u001b[39m(f(x))\u001b[38;5;241m<\u001b[39mprecision):\n",
      "Cell \u001b[1;32mIn [35], line 2\u001b[0m, in \u001b[0;36m<lambda>\u001b[1;34m(x)\u001b[0m\n\u001b[0;32m      1\u001b[0m f \u001b[38;5;241m=\u001b[39m \u001b[38;5;28;01mlambda\u001b[39;00m x : math\u001b[38;5;241m.\u001b[39mtanh(x)\n\u001b[1;32m----> 2\u001b[0m fder \u001b[38;5;241m=\u001b[39m \u001b[38;5;28;01mlambda\u001b[39;00m x : \u001b[38;5;241m1\u001b[39m\u001b[38;5;241m/\u001b[39m( math\u001b[38;5;241m.\u001b[39mpow(\u001b[43mmath\u001b[49m\u001b[38;5;241;43m.\u001b[39;49m\u001b[43mcosh\u001b[49m\u001b[43m(\u001b[49m\u001b[43mx\u001b[49m\u001b[43m)\u001b[49m,\u001b[38;5;241m2\u001b[39m))\n",
      "\u001b[1;31mOverflowError\u001b[0m: math range error"
     ]
    }
   ],
   "source": [
    "x , iteration = Newton(2,f,fder,4)\n",
    "\n",
    "print(x,f(x),iteration)"
   ]
  },
  {
   "cell_type": "code",
   "execution_count": 40,
   "metadata": {},
   "outputs": [
    {
     "name": "stdout",
     "output_type": "stream",
     "text": [
      "-0.7673399056754981 -0.6453799899109511 10000\n"
     ]
    }
   ],
   "source": [
    "x , iteration = Secant(4,2,f,4,1000)\n",
    "print(x,f(x),iteration)"
   ]
  },
  {
   "cell_type": "code",
   "execution_count": 42,
   "metadata": {},
   "outputs": [
    {
     "name": "stdout",
     "output_type": "stream",
     "text": [
      "-6.103515625e-05 -6.103515617420877e-05 14\n"
     ]
    }
   ],
   "source": [
    "x , iteration = Bisec(-1.0,5.0,f,4)\n",
    "print(x,f(x),iteration)"
   ]
  }
 ],
 "metadata": {
  "kernelspec": {
   "display_name": "Python 3.10.6 64-bit",
   "language": "python",
   "name": "python3"
  },
  "language_info": {
   "codemirror_mode": {
    "name": "ipython",
    "version": 3
   },
   "file_extension": ".py",
   "mimetype": "text/x-python",
   "name": "python",
   "nbconvert_exporter": "python",
   "pygments_lexer": "ipython3",
   "version": "3.10.6"
  },
  "orig_nbformat": 4,
  "vscode": {
   "interpreter": {
    "hash": "e6b503bf4887aba3aa0e64e3afc198311b49c2e1933252cd86ee3301bfbc31e4"
   }
  }
 },
 "nbformat": 4,
 "nbformat_minor": 2
}
